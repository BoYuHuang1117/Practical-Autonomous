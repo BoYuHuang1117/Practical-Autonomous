{
 "cells": [
  {
   "cell_type": "markdown",
   "metadata": {},
   "source": [
    "# **Finding Lane Lines on the Road**\n",
    "\n",
    "[//]: # (Image References)\n",
    "\n",
    "[image1]: ./image_pipeline/grayscale.jpg\n",
    "[image2]: ./image_pipeline/canny.jpg\n",
    "[image3]: ./image_pipeline/ROI.jpg\n",
    "[image4]: ./image_pipeline/hough.jpg\n",
    "\n",
    "---\n",
    "\n",
    "## Reflection \n",
    "\n",
    "---\n",
    "\n",
    "### 1. Describe your pipiline. As part of the description, explain how you modified the draw_lines() function. \n",
    "\n",
    "My pipeline included 5 steps. First, I converted the input image to grayscale(fig 1), This procedure includes color filter in multiple color spaces. I implemented white color filter in only RGB color space and yellow color filter in RGB, HSV and HLS color spaces. After this step, the item which is white and yellow in the original image would turn into white entity in binary style. Then I use gaussian_blur to make it accessible to canny detection(fig 2).\n",
    "\n",
    "| ![grayscale.jpg][image1] |\n",
    "|:--:| \n",
    "| *fig 1 - grayscale* |\n",
    "\n",
    "| ![canny.jpg][image2] |\n",
    "|:--:| \n",
    "| *fig 2 - canny* |\n",
    "\n",
    "Next, I chose certain quadrilateral region(fig 3) using *region_of_interest()* function for *hough_lines()* function to easily operate the *draw_lines()* function. \n",
    "\n",
    "| ![ROI.jpg][image3] |\n",
    "|:--:| \n",
    "| *fig 3 - region_of_interest* |\n",
    "\n",
    "The *draw_lines()* function basically creates marking lines on existing lane lines. But the lane lines may not be continuous through the entire video. The modified *draw_lines()* function draw the line from the upper to botton of the image using the slope that was averaged from all the positive or negative *lines* found in the previous step to create only one line for each lane line on the image(fig 4). Finally, *weighted_img()* function is used to merge the original input image and the image processed through the above pipeline.  \n",
    "\n",
    "| ![hough.jpg][image4] |\n",
    "|:--:| \n",
    "| *fig 4 - hough* |\n",
    "\n",
    "---\n",
    "\n",
    "### 2. Identify potential shortcomings with your current pipeline\n",
    "\n",
    "* One potential shortcoming would be what would happen when the position of the camera is moved or oscillate whether by wind or human. The *region_of_interest()* function would detect the wrong area and finding no lane lines or, even worse, detecting the wrong lane lines during driving. \n",
    "\n",
    "* Another shortcoming could be drawing inaccurate lane lines using *draw_lines()* function. Because the modified function create only one continuous red line on the image for each lane line detected, it would somehow be slightly offset. Therefore, it could end up affect the distance between cars. \n",
    "\n",
    "---\n",
    "\n",
    "### 3. Suggest possible improvements to your pipeline\n",
    "\n",
    "* The possible improvements to my pipeline is to improve the accuracy of drawing the continuous lane lines. Despite that I have set up the range limit for slopes in *lines* entity and averaging the slope found in either positive or negative slope, some error detection still occurs. Future work is, if the slope and bias of the following linear fitting changes too much, under the high frame number per second condition, linear information of current frame should be inherited to the next following frame. "
   ]
  }
 ],
 "metadata": {
  "kernelspec": {
   "display_name": "Python 3",
   "language": "python",
   "name": "python3"
  },
  "language_info": {
   "codemirror_mode": {
    "name": "ipython",
    "version": 3
   },
   "file_extension": ".py",
   "mimetype": "text/x-python",
   "name": "python",
   "nbconvert_exporter": "python",
   "pygments_lexer": "ipython3",
   "version": "3.5.5"
  }
 },
 "nbformat": 4,
 "nbformat_minor": 2
}
